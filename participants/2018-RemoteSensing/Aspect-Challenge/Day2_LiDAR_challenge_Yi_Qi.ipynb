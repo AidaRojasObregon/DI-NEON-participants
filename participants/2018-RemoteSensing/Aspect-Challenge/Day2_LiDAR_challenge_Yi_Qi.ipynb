{
 "cells": [
  {
   "cell_type": "code",
   "execution_count": 1,
   "metadata": {},
   "outputs": [],
   "source": [
    "import gdal\n",
    "import numpy as np\n",
    "import copy\n",
    "import matplotlib.pyplot as plt\n",
    "%matplotlib inline"
   ]
  },
  {
   "cell_type": "code",
   "execution_count": 2,
   "metadata": {},
   "outputs": [],
   "source": [
    "# %load ./neon_aop_lidar_python_functions/raster2array.py\n",
    "def raster2array(geotif_file):\n",
    "    metadata = {}\n",
    "    dataset = gdal.Open(geotif_file)\n",
    "    metadata['array_rows'] = dataset.RasterYSize\n",
    "    metadata['array_cols'] = dataset.RasterXSize\n",
    "    metadata['bands'] = dataset.RasterCount\n",
    "    metadata['driver'] = dataset.GetDriver().LongName\n",
    "    metadata['projection'] = dataset.GetProjection()\n",
    "    metadata['geotransform'] = dataset.GetGeoTransform()\n",
    "    \n",
    "    mapinfo = dataset.GetGeoTransform()\n",
    "    metadata['pixelWidth'] = mapinfo[1]\n",
    "    metadata['pixelHeight'] = mapinfo[5]\n",
    "\n",
    "    xMin = mapinfo[0]\n",
    "    xMax = mapinfo[0] + dataset.RasterXSize/mapinfo[1]\n",
    "    yMin = mapinfo[3] + dataset.RasterYSize/mapinfo[5]\n",
    "    yMax = mapinfo[3]\n",
    "    \n",
    "    metadata['extent'] = (xMin,xMax,yMin,yMax)\n",
    "    \n",
    "    raster = dataset.GetRasterBand(1)\n",
    "    array_shape = raster.ReadAsArray(0,0,metadata['array_cols'],metadata['array_rows']).astype(np.float).shape\n",
    "    metadata['noDataValue'] = raster.GetNoDataValue()\n",
    "    metadata['scaleFactor'] = raster.GetScale()\n",
    "    \n",
    "    array = np.zeros((array_shape[0],array_shape[1],dataset.RasterCount),'uint8') #pre-allocate stackedArray matrix\n",
    "    \n",
    "    if metadata['bands'] == 1:\n",
    "        raster = dataset.GetRasterBand(1)\n",
    "        metadata['noDataValue'] = raster.GetNoDataValue()\n",
    "        metadata['scaleFactor'] = raster.GetScale()\n",
    "              \n",
    "        array = dataset.GetRasterBand(1).ReadAsArray(0,0,metadata['array_cols'],metadata['array_rows']).astype(np.float)\n",
    "        array[np.where(array==metadata['noDataValue'])]=np.nan\n",
    "        array = array/metadata['scaleFactor']\n",
    "    \n",
    "    elif metadata['bands'] > 1:    \n",
    "        for i in range(1, dataset.RasterCount+1):\n",
    "            band = float(dataset.GetRasterBand(i).ReadAsArray(0,0,metadata['array_cols'],metadata['array_rows']))\n",
    "            band[np.where(band==metadata['noDataValue'])]=np.nan\n",
    "            band = band/metadata['scaleFactor']\n",
    "            array[...,i-1] = band\n",
    "\n",
    "    return array, metadata"
   ]
  },
  {
   "cell_type": "code",
   "execution_count": 3,
   "metadata": {},
   "outputs": [
    {
     "data": {
      "text/plain": [
       "array([[163.71200562, 160.04100037, 159.0019989 , ...,  18.74500084,\n",
       "         19.59300041,  25.36899948],\n",
       "       [164.477005  , 161.91799927, 160.12800598, ...,  17.50900078,\n",
       "         22.22900009,  34.88100052],\n",
       "       [165.58799744, 163.79400635, 161.91799927, ...,  23.70000076,\n",
       "         33.625     ,  49.83300018],\n",
       "       ...,\n",
       "       [242.97200012, 247.46499634, 252.26300049, ..., 240.147995  ,\n",
       "        249.82499695, 256.61401367],\n",
       "       [251.91499329, 256.54400635, 259.59899902, ..., 237.49099731,\n",
       "        237.39199829, 231.25      ],\n",
       "       [254.6499939 , 257.04800415, 256.69799805, ..., 235.27000427,\n",
       "        231.46699524, 224.64500427]])"
      ]
     },
     "execution_count": 3,
     "metadata": {},
     "output_type": "execute_result"
    }
   ],
   "source": [
    "serc_tile,serc_metadata = raster2array(r'Day2_LiDAR_Intro/TEAK_Aspect_Tiles/NEON_D17_TEAK_DP3_320000_4100000_aspect.tif')\n",
    "serc_tile"
   ]
  },
  {
   "cell_type": "code",
   "execution_count": 4,
   "metadata": {},
   "outputs": [
    {
     "data": {
      "text/plain": [
       "{'array_cols': 1000,\n",
       " 'array_rows': 1000,\n",
       " 'bands': 1,\n",
       " 'driver': 'GeoTIFF',\n",
       " 'extent': (320000.0, 321000.0, 4100000.0, 4101000.0),\n",
       " 'geotransform': (320000.0, 1.0, 0.0, 4101000.0, 0.0, -1.0),\n",
       " 'noDataValue': -9999.0,\n",
       " 'pixelHeight': -1.0,\n",
       " 'pixelWidth': 1.0,\n",
       " 'projection': 'PROJCS[\"WGS 84 / UTM zone 11N\",GEOGCS[\"WGS 84\",DATUM[\"WGS_1984\",SPHEROID[\"WGS 84\",6378137,298.257223563,AUTHORITY[\"EPSG\",\"7030\"]],AUTHORITY[\"EPSG\",\"6326\"]],PRIMEM[\"Greenwich\",0,AUTHORITY[\"EPSG\",\"8901\"]],UNIT[\"degree\",0.0174532925199433,AUTHORITY[\"EPSG\",\"9122\"]],AUTHORITY[\"EPSG\",\"4326\"]],PROJECTION[\"Transverse_Mercator\"],PARAMETER[\"latitude_of_origin\",0],PARAMETER[\"central_meridian\",-117],PARAMETER[\"scale_factor\",0.9996],PARAMETER[\"false_easting\",500000],PARAMETER[\"false_northing\",0],UNIT[\"metre\",1,AUTHORITY[\"EPSG\",\"9001\"]],AXIS[\"Easting\",EAST],AXIS[\"Northing\",NORTH],AUTHORITY[\"EPSG\",\"32611\"]]',\n",
       " 'scaleFactor': 1.0}"
      ]
     },
     "execution_count": 4,
     "metadata": {},
     "output_type": "execute_result"
    }
   ],
   "source": [
    "serc_metadata"
   ]
  },
  {
   "cell_type": "code",
   "execution_count": 5,
   "metadata": {},
   "outputs": [],
   "source": [
    "serc_chm_reclass = serc_tile.copy() # doe th same as copy.copy(...)"
   ]
  },
  {
   "cell_type": "code",
   "execution_count": 6,
   "metadata": {},
   "outputs": [],
   "source": [
    "# define the classes\n",
    "serc_chm_reclass[np.where((serc_tile>0) & (serc_tile<45)) or np.where((serc_tile>315) & (serc_tile<360))] = 1\n",
    "\n",
    "serc_chm_reclass[np.where((serc_tile>135) & (serc_tile<225))] = 2\n",
    "\n",
    "serc_chm_reclass[np.where((serc_tile>=45) & (serc_tile<=135)) or np.where((serc_tile>=225) & (serc_tile<=315))] = 3\n"
   ]
  },
  {
   "cell_type": "code",
   "execution_count": 7,
   "metadata": {},
   "outputs": [
    {
     "data": {
      "text/plain": [
       "array([[  2.        ,   2.        ,   2.        , ...,   1.        ,\n",
       "          1.        ,   1.        ],\n",
       "       [  2.        ,   2.        ,   2.        , ...,   1.        ,\n",
       "          1.        ,   1.        ],\n",
       "       [  2.        ,   2.        ,   2.        , ...,   1.        ,\n",
       "          1.        ,   3.        ],\n",
       "       ...,\n",
       "       [242.97200012, 247.46499634, 252.26300049, ..., 240.147995  ,\n",
       "        249.82499695, 256.61401367],\n",
       "       [251.91499329, 256.54400635, 259.59899902, ..., 237.49099731,\n",
       "        237.39199829, 231.25      ],\n",
       "       [254.6499939 , 257.04800415, 256.69799805, ..., 235.27000427,\n",
       "        231.46699524,   2.        ]])"
      ]
     },
     "execution_count": 7,
     "metadata": {},
     "output_type": "execute_result"
    }
   ],
   "source": [
    "serc_chm_reclass\n"
   ]
  },
  {
   "cell_type": "code",
   "execution_count": 8,
   "metadata": {},
   "outputs": [
    {
     "data": {
      "text/plain": [
       "<matplotlib.legend.Legend at 0x21cc44aa048>"
      ]
     },
     "execution_count": 8,
     "metadata": {},
     "output_type": "execute_result"
    },
    {
     "data": {
      "image/png": "[encoded data removed]",
      "text/plain": [
       "<Figure size 432x288 with 1 Axes>"
      ]
     },
     "metadata": {},
     "output_type": "display_data"
    }
   ],
   "source": [
    "import matplotlib.colors as colors\n",
    "plt.figure()\n",
    "cmapCHM = colors.ListedColormap(['lightblue','red','green'])\n",
    "plt.imshow(serc_chm_reclass,extent=serc_metadata['extent'],cmap=cmapCHM)\n",
    "plt.title('PEAK CHM Classification')\n",
    "ax=plt.gca()\n",
    "ax.ticklabel_format(useOffset=False, style='plain') #do not use scientific notation \n",
    "rotatexlabels = plt.setp(ax.get_xticklabels(),rotation=90) #rotate x tick labels 90 degrees\n",
    "\n",
    "# Create custom legend to label the four canopy height classes:\n",
    "import matplotlib.patches as mpatches\n",
    "class1_box = mpatches.Patch(color='lightblue', label='North')\n",
    "class2_box = mpatches.Patch(color='red', label='South')\n",
    "class3_box = mpatches.Patch(color='green', label='Other')\n",
    "\n",
    "ax.legend(handles=[class1_box,class2_box,class3_box],\n",
    "          handlelength=0.7,bbox_to_anchor=(1.05, 0.4),loc='lower left',borderaxespad=0.)"
   ]
  },
  {
   "cell_type": "code",
   "execution_count": null,
   "metadata": {},
   "outputs": [],
   "source": []
  },
  {
   "cell_type": "code",
   "execution_count": null,
   "metadata": {},
   "outputs": [],
   "source": []
  }
 ],
 "metadata": {
  "kernelspec": {
   "display_name": "Python 3",
   "language": "python",
   "name": "python3"
  },
  "language_info": {
   "codemirror_mode": {
    "name": "ipython",
    "version": 3
   },
   "file_extension": ".py",
   "mimetype": "text/x-python",
   "name": "python",
   "nbconvert_exporter": "python",
   "pygments_lexer": "ipython3",
   "version": "3.5.5"
  }
 },
 "nbformat": 4,
 "nbformat_minor": 2
}
